{
  "nbformat": 4,
  "nbformat_minor": 0,
  "metadata": {
    "colab": {
      "name": "stroke.ipynb",
      "provenance": [],
      "collapsed_sections": []
    },
    "kernelspec": {
      "name": "python3",
      "display_name": "Python 3"
    },
    "language_info": {
      "name": "python"
    }
  },
  "cells": [
    {
      "cell_type": "code",
      "execution_count": 58,
      "metadata": {
        "id": "PLp6NnYVVnyo"
      },
      "outputs": [],
      "source": [
        "import tensorflow as tf\n",
        "import matplotlib.pyplot as plt\n",
        "import numpy as np\n",
        "import pandas as pd\n",
        "%matplotlib inline"
      ]
    },
    {
      "cell_type": "code",
      "source": [
        "# Читаем таблицу\n",
        "path = 'full_data.csv'\n",
        "df = pd.read_csv(path)\n",
        "df.head()"
      ],
      "metadata": {
        "id": "5F66xKZRVpZc"
      },
      "execution_count": null,
      "outputs": []
    },
    {
      "cell_type": "code",
      "source": [
        "df = df.replace(to_replace=['Male', 'Female'], value=[1, 0])\n",
        "df = df.replace(to_replace=['Yes', 'No'], value=[1, 0])"
      ],
      "metadata": {
        "id": "8uQkeQnlVz8n"
      },
      "execution_count": 60,
      "outputs": []
    },
    {
      "cell_type": "code",
      "source": [
        "def un(colum):\n",
        "  global df\n",
        "  un_item = []\n",
        "\n",
        "  for i in df[colum]:\n",
        "    if i not in un_item:\n",
        "      un_item.append(i)\n",
        "\n",
        "  un_index = len(un_item)\n",
        "  df = df.replace(to_replace=un_item, value=[i / un_index for i in range(un_index)])"
      ],
      "metadata": {
        "id": "tFlQUGStZhnH"
      },
      "execution_count": 61,
      "outputs": []
    },
    {
      "cell_type": "code",
      "source": [
        "index = [\"smoking_status\", \"work_type\"]\n",
        "for ind in index:\n",
        "  un(ind)"
      ],
      "metadata": {
        "id": "5u9M_fRfcCag"
      },
      "execution_count": 62,
      "outputs": []
    },
    {
      "cell_type": "code",
      "source": [
        "df = df.replace(to_replace=['Urban', 'Rural'], value=[1, 0])"
      ],
      "metadata": {
        "id": "McW9aePdZ9uA"
      },
      "execution_count": 63,
      "outputs": []
    },
    {
      "cell_type": "code",
      "source": [
        "df"
      ],
      "metadata": {
        "id": "3iCCJBJEefuR"
      },
      "execution_count": null,
      "outputs": []
    },
    {
      "cell_type": "code",
      "source": [
        "def getNormalNumbers(colum):\n",
        "  global df\n",
        "  df[colum] /= df[colum].max()"
      ],
      "metadata": {
        "id": "lI8ihzuybsX_"
      },
      "execution_count": 65,
      "outputs": []
    },
    {
      "cell_type": "code",
      "source": [
        "index_num = [\"age\", \"avg_glucose_level\", \"bmi\"]\n",
        "for ind_num in index_num:\n",
        "  getNormalNumbers(ind_num)"
      ],
      "metadata": {
        "id": "oDK6YruFcYew"
      },
      "execution_count": 68,
      "outputs": []
    },
    {
      "cell_type": "code",
      "source": [
        "procc = len(df) / 100\n",
        "\n",
        "Y = np.array(df[\"stroke\"])\n",
        "X = np.array(df.loc[:, 'gender':'smoking_status'])\n",
        "\n",
        "y_train = Y[:int(procc * 80)]\n",
        "x_train = X[:int(procc * 80)]\n",
        "\n",
        "y_test = Y[int(procc * 80):]\n",
        "x_test = X[int(procc * 80):]"
      ],
      "metadata": {
        "id": "sRg5kYhcdri6"
      },
      "execution_count": 98,
      "outputs": []
    },
    {
      "cell_type": "code",
      "source": [
        "model = tf.keras.Sequential([\n",
        "                          tf.keras.layers.Dense(10, activation=\"relu\"),\n",
        "                          tf.keras.layers.Dense(12, activation=\"relu\"),\n",
        "                          tf.keras.layers.Dense(1, activation=\"sigmoid\")\n",
        "])"
      ],
      "metadata": {
        "id": "-V_wyAsAe5R6"
      },
      "execution_count": 94,
      "outputs": []
    },
    {
      "cell_type": "code",
      "source": [
        "model.compile(optimizer=tf.keras.optimizers.SGD(), loss='mse', metrics=['accuracy'])"
      ],
      "metadata": {
        "id": "odzjAve5ghmk"
      },
      "execution_count": 95,
      "outputs": []
    },
    {
      "cell_type": "code",
      "source": [
        "history = model.fit(x_train, y_train, epochs=100, validation_data=(x_test, y_test))"
      ],
      "metadata": {
        "colab": {
          "base_uri": "https://localhost:8080/"
        },
        "id": "eMTjX6e6hU83",
        "outputId": "49c4c3f8-2238-4f29-d63e-6655ef315e85"
      },
      "execution_count": 117,
      "outputs": [
        {
          "output_type": "stream",
          "name": "stdout",
          "text": [
            "Epoch 1/100\n",
            "125/125 [==============================] - 0s 3ms/step - loss: 0.0454 - accuracy: 0.9478 - val_loss: 0.0392 - val_accuracy: 0.9599\n",
            "Epoch 2/100\n",
            "125/125 [==============================] - 0s 3ms/step - loss: 0.0453 - accuracy: 0.9478 - val_loss: 0.0390 - val_accuracy: 0.9599\n",
            "Epoch 3/100\n",
            "125/125 [==============================] - 0s 3ms/step - loss: 0.0453 - accuracy: 0.9478 - val_loss: 0.0389 - val_accuracy: 0.9599\n",
            "Epoch 4/100\n",
            "125/125 [==============================] - 0s 4ms/step - loss: 0.0452 - accuracy: 0.9478 - val_loss: 0.0388 - val_accuracy: 0.9599\n",
            "Epoch 5/100\n",
            "125/125 [==============================] - 0s 2ms/step - loss: 0.0452 - accuracy: 0.9478 - val_loss: 0.0387 - val_accuracy: 0.9599\n",
            "Epoch 6/100\n",
            "125/125 [==============================] - 0s 2ms/step - loss: 0.0452 - accuracy: 0.9478 - val_loss: 0.0387 - val_accuracy: 0.9599\n",
            "Epoch 7/100\n",
            "125/125 [==============================] - 0s 2ms/step - loss: 0.0452 - accuracy: 0.9478 - val_loss: 0.0387 - val_accuracy: 0.9599\n",
            "Epoch 8/100\n",
            "125/125 [==============================] - 0s 2ms/step - loss: 0.0452 - accuracy: 0.9478 - val_loss: 0.0386 - val_accuracy: 0.9599\n",
            "Epoch 9/100\n",
            "125/125 [==============================] - 0s 2ms/step - loss: 0.0452 - accuracy: 0.9478 - val_loss: 0.0386 - val_accuracy: 0.9599\n",
            "Epoch 10/100\n",
            "125/125 [==============================] - 0s 2ms/step - loss: 0.0452 - accuracy: 0.9478 - val_loss: 0.0386 - val_accuracy: 0.9599\n",
            "Epoch 11/100\n",
            "125/125 [==============================] - 0s 2ms/step - loss: 0.0452 - accuracy: 0.9478 - val_loss: 0.0386 - val_accuracy: 0.9599\n",
            "Epoch 12/100\n",
            "125/125 [==============================] - 0s 2ms/step - loss: 0.0452 - accuracy: 0.9478 - val_loss: 0.0386 - val_accuracy: 0.9599\n",
            "Epoch 13/100\n",
            "125/125 [==============================] - 0s 2ms/step - loss: 0.0452 - accuracy: 0.9478 - val_loss: 0.0385 - val_accuracy: 0.9599\n",
            "Epoch 14/100\n",
            "125/125 [==============================] - 0s 2ms/step - loss: 0.0452 - accuracy: 0.9478 - val_loss: 0.0386 - val_accuracy: 0.9599\n",
            "Epoch 15/100\n",
            "125/125 [==============================] - 0s 2ms/step - loss: 0.0452 - accuracy: 0.9478 - val_loss: 0.0386 - val_accuracy: 0.9599\n",
            "Epoch 16/100\n",
            "125/125 [==============================] - 0s 2ms/step - loss: 0.0452 - accuracy: 0.9478 - val_loss: 0.0386 - val_accuracy: 0.9599\n",
            "Epoch 17/100\n",
            "125/125 [==============================] - 0s 2ms/step - loss: 0.0452 - accuracy: 0.9478 - val_loss: 0.0385 - val_accuracy: 0.9599\n",
            "Epoch 18/100\n",
            "125/125 [==============================] - 0s 2ms/step - loss: 0.0452 - accuracy: 0.9478 - val_loss: 0.0385 - val_accuracy: 0.9599\n",
            "Epoch 19/100\n",
            "125/125 [==============================] - 0s 2ms/step - loss: 0.0452 - accuracy: 0.9478 - val_loss: 0.0385 - val_accuracy: 0.9599\n",
            "Epoch 20/100\n",
            "125/125 [==============================] - 0s 2ms/step - loss: 0.0452 - accuracy: 0.9478 - val_loss: 0.0385 - val_accuracy: 0.9599\n",
            "Epoch 21/100\n",
            "125/125 [==============================] - 0s 2ms/step - loss: 0.0452 - accuracy: 0.9478 - val_loss: 0.0385 - val_accuracy: 0.9599\n",
            "Epoch 22/100\n",
            "125/125 [==============================] - 0s 2ms/step - loss: 0.0452 - accuracy: 0.9478 - val_loss: 0.0385 - val_accuracy: 0.9599\n",
            "Epoch 23/100\n",
            "125/125 [==============================] - 0s 2ms/step - loss: 0.0451 - accuracy: 0.9478 - val_loss: 0.0385 - val_accuracy: 0.9599\n",
            "Epoch 24/100\n",
            "125/125 [==============================] - 0s 2ms/step - loss: 0.0451 - accuracy: 0.9478 - val_loss: 0.0385 - val_accuracy: 0.9599\n",
            "Epoch 25/100\n",
            "125/125 [==============================] - 0s 2ms/step - loss: 0.0451 - accuracy: 0.9478 - val_loss: 0.0385 - val_accuracy: 0.9599\n",
            "Epoch 26/100\n",
            "125/125 [==============================] - 0s 2ms/step - loss: 0.0451 - accuracy: 0.9478 - val_loss: 0.0385 - val_accuracy: 0.9599\n",
            "Epoch 27/100\n",
            "125/125 [==============================] - 0s 2ms/step - loss: 0.0451 - accuracy: 0.9478 - val_loss: 0.0385 - val_accuracy: 0.9599\n",
            "Epoch 28/100\n",
            "125/125 [==============================] - 0s 2ms/step - loss: 0.0451 - accuracy: 0.9478 - val_loss: 0.0385 - val_accuracy: 0.9599\n",
            "Epoch 29/100\n",
            "125/125 [==============================] - 0s 3ms/step - loss: 0.0451 - accuracy: 0.9478 - val_loss: 0.0385 - val_accuracy: 0.9599\n",
            "Epoch 30/100\n",
            "125/125 [==============================] - 0s 2ms/step - loss: 0.0451 - accuracy: 0.9478 - val_loss: 0.0384 - val_accuracy: 0.9599\n",
            "Epoch 31/100\n",
            "125/125 [==============================] - 0s 2ms/step - loss: 0.0451 - accuracy: 0.9478 - val_loss: 0.0384 - val_accuracy: 0.9599\n",
            "Epoch 32/100\n",
            "125/125 [==============================] - 0s 2ms/step - loss: 0.0451 - accuracy: 0.9478 - val_loss: 0.0384 - val_accuracy: 0.9599\n",
            "Epoch 33/100\n",
            "125/125 [==============================] - 0s 2ms/step - loss: 0.0451 - accuracy: 0.9478 - val_loss: 0.0384 - val_accuracy: 0.9599\n",
            "Epoch 34/100\n",
            "125/125 [==============================] - 0s 2ms/step - loss: 0.0451 - accuracy: 0.9478 - val_loss: 0.0384 - val_accuracy: 0.9599\n",
            "Epoch 35/100\n",
            "125/125 [==============================] - 0s 2ms/step - loss: 0.0451 - accuracy: 0.9478 - val_loss: 0.0384 - val_accuracy: 0.9599\n",
            "Epoch 36/100\n",
            "125/125 [==============================] - 0s 2ms/step - loss: 0.0451 - accuracy: 0.9478 - val_loss: 0.0384 - val_accuracy: 0.9599\n",
            "Epoch 37/100\n",
            "125/125 [==============================] - 0s 2ms/step - loss: 0.0451 - accuracy: 0.9478 - val_loss: 0.0384 - val_accuracy: 0.9599\n",
            "Epoch 38/100\n",
            "125/125 [==============================] - 0s 2ms/step - loss: 0.0451 - accuracy: 0.9478 - val_loss: 0.0384 - val_accuracy: 0.9599\n",
            "Epoch 39/100\n",
            "125/125 [==============================] - 0s 2ms/step - loss: 0.0451 - accuracy: 0.9478 - val_loss: 0.0384 - val_accuracy: 0.9599\n",
            "Epoch 40/100\n",
            "125/125 [==============================] - 0s 2ms/step - loss: 0.0451 - accuracy: 0.9478 - val_loss: 0.0384 - val_accuracy: 0.9599\n",
            "Epoch 41/100\n",
            "125/125 [==============================] - 0s 2ms/step - loss: 0.0451 - accuracy: 0.9478 - val_loss: 0.0384 - val_accuracy: 0.9599\n",
            "Epoch 42/100\n",
            "125/125 [==============================] - 0s 2ms/step - loss: 0.0451 - accuracy: 0.9478 - val_loss: 0.0384 - val_accuracy: 0.9599\n",
            "Epoch 43/100\n",
            "125/125 [==============================] - 0s 2ms/step - loss: 0.0451 - accuracy: 0.9478 - val_loss: 0.0384 - val_accuracy: 0.9599\n",
            "Epoch 44/100\n",
            "125/125 [==============================] - 0s 2ms/step - loss: 0.0451 - accuracy: 0.9478 - val_loss: 0.0384 - val_accuracy: 0.9599\n",
            "Epoch 45/100\n",
            "125/125 [==============================] - 0s 2ms/step - loss: 0.0451 - accuracy: 0.9478 - val_loss: 0.0384 - val_accuracy: 0.9599\n",
            "Epoch 46/100\n",
            "125/125 [==============================] - 0s 2ms/step - loss: 0.0451 - accuracy: 0.9478 - val_loss: 0.0384 - val_accuracy: 0.9599\n",
            "Epoch 47/100\n",
            "125/125 [==============================] - 0s 2ms/step - loss: 0.0450 - accuracy: 0.9478 - val_loss: 0.0384 - val_accuracy: 0.9599\n",
            "Epoch 48/100\n",
            "125/125 [==============================] - 0s 2ms/step - loss: 0.0450 - accuracy: 0.9478 - val_loss: 0.0384 - val_accuracy: 0.9599\n",
            "Epoch 49/100\n",
            "125/125 [==============================] - 0s 2ms/step - loss: 0.0450 - accuracy: 0.9478 - val_loss: 0.0384 - val_accuracy: 0.9599\n",
            "Epoch 50/100\n",
            "125/125 [==============================] - 0s 2ms/step - loss: 0.0450 - accuracy: 0.9478 - val_loss: 0.0384 - val_accuracy: 0.9599\n",
            "Epoch 51/100\n",
            "125/125 [==============================] - 0s 2ms/step - loss: 0.0450 - accuracy: 0.9478 - val_loss: 0.0384 - val_accuracy: 0.9599\n",
            "Epoch 52/100\n",
            "125/125 [==============================] - 0s 2ms/step - loss: 0.0450 - accuracy: 0.9478 - val_loss: 0.0383 - val_accuracy: 0.9599\n",
            "Epoch 53/100\n",
            "125/125 [==============================] - 0s 2ms/step - loss: 0.0450 - accuracy: 0.9478 - val_loss: 0.0383 - val_accuracy: 0.9599\n",
            "Epoch 54/100\n",
            "125/125 [==============================] - 0s 2ms/step - loss: 0.0450 - accuracy: 0.9478 - val_loss: 0.0384 - val_accuracy: 0.9599\n",
            "Epoch 55/100\n",
            "125/125 [==============================] - 0s 2ms/step - loss: 0.0450 - accuracy: 0.9478 - val_loss: 0.0384 - val_accuracy: 0.9599\n",
            "Epoch 56/100\n",
            "125/125 [==============================] - 0s 2ms/step - loss: 0.0450 - accuracy: 0.9478 - val_loss: 0.0384 - val_accuracy: 0.9599\n",
            "Epoch 57/100\n",
            "125/125 [==============================] - 0s 2ms/step - loss: 0.0450 - accuracy: 0.9478 - val_loss: 0.0384 - val_accuracy: 0.9599\n",
            "Epoch 58/100\n",
            "125/125 [==============================] - 0s 2ms/step - loss: 0.0450 - accuracy: 0.9478 - val_loss: 0.0384 - val_accuracy: 0.9599\n",
            "Epoch 59/100\n",
            "125/125 [==============================] - 0s 2ms/step - loss: 0.0450 - accuracy: 0.9478 - val_loss: 0.0383 - val_accuracy: 0.9599\n",
            "Epoch 60/100\n",
            "125/125 [==============================] - 0s 2ms/step - loss: 0.0450 - accuracy: 0.9478 - val_loss: 0.0383 - val_accuracy: 0.9599\n",
            "Epoch 61/100\n",
            "125/125 [==============================] - 0s 2ms/step - loss: 0.0450 - accuracy: 0.9478 - val_loss: 0.0383 - val_accuracy: 0.9599\n",
            "Epoch 62/100\n",
            "125/125 [==============================] - 0s 2ms/step - loss: 0.0450 - accuracy: 0.9478 - val_loss: 0.0383 - val_accuracy: 0.9599\n",
            "Epoch 63/100\n",
            "125/125 [==============================] - 0s 2ms/step - loss: 0.0450 - accuracy: 0.9478 - val_loss: 0.0383 - val_accuracy: 0.9599\n",
            "Epoch 64/100\n",
            "125/125 [==============================] - 0s 2ms/step - loss: 0.0450 - accuracy: 0.9478 - val_loss: 0.0383 - val_accuracy: 0.9599\n",
            "Epoch 65/100\n",
            "125/125 [==============================] - 0s 2ms/step - loss: 0.0450 - accuracy: 0.9478 - val_loss: 0.0383 - val_accuracy: 0.9599\n",
            "Epoch 66/100\n",
            "125/125 [==============================] - 0s 2ms/step - loss: 0.0450 - accuracy: 0.9478 - val_loss: 0.0383 - val_accuracy: 0.9599\n",
            "Epoch 67/100\n",
            "125/125 [==============================] - 0s 2ms/step - loss: 0.0450 - accuracy: 0.9478 - val_loss: 0.0383 - val_accuracy: 0.9599\n",
            "Epoch 68/100\n",
            "125/125 [==============================] - 0s 2ms/step - loss: 0.0450 - accuracy: 0.9478 - val_loss: 0.0383 - val_accuracy: 0.9599\n",
            "Epoch 69/100\n",
            "125/125 [==============================] - 0s 2ms/step - loss: 0.0450 - accuracy: 0.9478 - val_loss: 0.0383 - val_accuracy: 0.9599\n",
            "Epoch 70/100\n",
            "125/125 [==============================] - 0s 2ms/step - loss: 0.0450 - accuracy: 0.9478 - val_loss: 0.0383 - val_accuracy: 0.9599\n",
            "Epoch 71/100\n",
            "125/125 [==============================] - 0s 2ms/step - loss: 0.0450 - accuracy: 0.9478 - val_loss: 0.0383 - val_accuracy: 0.9599\n",
            "Epoch 72/100\n",
            "125/125 [==============================] - 0s 2ms/step - loss: 0.0450 - accuracy: 0.9478 - val_loss: 0.0383 - val_accuracy: 0.9599\n",
            "Epoch 73/100\n",
            "125/125 [==============================] - 0s 2ms/step - loss: 0.0450 - accuracy: 0.9478 - val_loss: 0.0383 - val_accuracy: 0.9599\n",
            "Epoch 74/100\n",
            "125/125 [==============================] - 0s 2ms/step - loss: 0.0450 - accuracy: 0.9478 - val_loss: 0.0383 - val_accuracy: 0.9599\n",
            "Epoch 75/100\n",
            "125/125 [==============================] - 0s 2ms/step - loss: 0.0450 - accuracy: 0.9478 - val_loss: 0.0383 - val_accuracy: 0.9599\n",
            "Epoch 76/100\n",
            "125/125 [==============================] - 0s 2ms/step - loss: 0.0450 - accuracy: 0.9478 - val_loss: 0.0383 - val_accuracy: 0.9599\n",
            "Epoch 77/100\n",
            "125/125 [==============================] - 0s 2ms/step - loss: 0.0449 - accuracy: 0.9478 - val_loss: 0.0384 - val_accuracy: 0.9599\n",
            "Epoch 78/100\n",
            "125/125 [==============================] - 0s 2ms/step - loss: 0.0449 - accuracy: 0.9478 - val_loss: 0.0384 - val_accuracy: 0.9599\n",
            "Epoch 79/100\n",
            "125/125 [==============================] - 0s 2ms/step - loss: 0.0449 - accuracy: 0.9478 - val_loss: 0.0384 - val_accuracy: 0.9599\n",
            "Epoch 80/100\n",
            "125/125 [==============================] - 0s 2ms/step - loss: 0.0449 - accuracy: 0.9478 - val_loss: 0.0384 - val_accuracy: 0.9599\n",
            "Epoch 81/100\n",
            "125/125 [==============================] - 0s 2ms/step - loss: 0.0449 - accuracy: 0.9478 - val_loss: 0.0383 - val_accuracy: 0.9599\n",
            "Epoch 82/100\n",
            "125/125 [==============================] - 0s 2ms/step - loss: 0.0449 - accuracy: 0.9478 - val_loss: 0.0383 - val_accuracy: 0.9599\n",
            "Epoch 83/100\n",
            "125/125 [==============================] - 0s 2ms/step - loss: 0.0449 - accuracy: 0.9478 - val_loss: 0.0384 - val_accuracy: 0.9599\n",
            "Epoch 84/100\n",
            "125/125 [==============================] - 0s 2ms/step - loss: 0.0449 - accuracy: 0.9478 - val_loss: 0.0383 - val_accuracy: 0.9599\n",
            "Epoch 85/100\n",
            "125/125 [==============================] - 0s 2ms/step - loss: 0.0449 - accuracy: 0.9478 - val_loss: 0.0383 - val_accuracy: 0.9599\n",
            "Epoch 86/100\n",
            "125/125 [==============================] - 0s 2ms/step - loss: 0.0449 - accuracy: 0.9478 - val_loss: 0.0383 - val_accuracy: 0.9599\n",
            "Epoch 87/100\n",
            "125/125 [==============================] - 0s 2ms/step - loss: 0.0449 - accuracy: 0.9478 - val_loss: 0.0383 - val_accuracy: 0.9599\n",
            "Epoch 88/100\n",
            "125/125 [==============================] - 0s 2ms/step - loss: 0.0449 - accuracy: 0.9478 - val_loss: 0.0383 - val_accuracy: 0.9599\n",
            "Epoch 89/100\n",
            "125/125 [==============================] - 0s 2ms/step - loss: 0.0449 - accuracy: 0.9478 - val_loss: 0.0383 - val_accuracy: 0.9599\n",
            "Epoch 90/100\n",
            "125/125 [==============================] - 0s 2ms/step - loss: 0.0449 - accuracy: 0.9478 - val_loss: 0.0383 - val_accuracy: 0.9599\n",
            "Epoch 91/100\n",
            "125/125 [==============================] - 0s 2ms/step - loss: 0.0449 - accuracy: 0.9478 - val_loss: 0.0384 - val_accuracy: 0.9599\n",
            "Epoch 92/100\n",
            "125/125 [==============================] - 0s 2ms/step - loss: 0.0449 - accuracy: 0.9478 - val_loss: 0.0383 - val_accuracy: 0.9599\n",
            "Epoch 93/100\n",
            "125/125 [==============================] - 0s 2ms/step - loss: 0.0449 - accuracy: 0.9478 - val_loss: 0.0383 - val_accuracy: 0.9599\n",
            "Epoch 94/100\n",
            "125/125 [==============================] - 0s 2ms/step - loss: 0.0449 - accuracy: 0.9478 - val_loss: 0.0383 - val_accuracy: 0.9599\n",
            "Epoch 95/100\n",
            "125/125 [==============================] - 0s 2ms/step - loss: 0.0449 - accuracy: 0.9478 - val_loss: 0.0383 - val_accuracy: 0.9599\n",
            "Epoch 96/100\n",
            "125/125 [==============================] - 0s 2ms/step - loss: 0.0449 - accuracy: 0.9478 - val_loss: 0.0383 - val_accuracy: 0.9599\n",
            "Epoch 97/100\n",
            "125/125 [==============================] - 0s 2ms/step - loss: 0.0449 - accuracy: 0.9478 - val_loss: 0.0383 - val_accuracy: 0.9599\n",
            "Epoch 98/100\n",
            "125/125 [==============================] - 0s 2ms/step - loss: 0.0449 - accuracy: 0.9478 - val_loss: 0.0383 - val_accuracy: 0.9599\n",
            "Epoch 99/100\n",
            "125/125 [==============================] - 0s 2ms/step - loss: 0.0449 - accuracy: 0.9478 - val_loss: 0.0383 - val_accuracy: 0.9599\n",
            "Epoch 100/100\n",
            "125/125 [==============================] - 0s 2ms/step - loss: 0.0449 - accuracy: 0.9478 - val_loss: 0.0383 - val_accuracy: 0.9599\n"
          ]
        }
      ]
    },
    {
      "cell_type": "code",
      "source": [
        ""
      ],
      "metadata": {
        "id": "grtSHIbQi1ZQ"
      },
      "execution_count": null,
      "outputs": []
    }
  ]
}