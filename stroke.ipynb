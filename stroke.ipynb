{
 "cells": [
  {
   "cell_type": "code",
   "execution_count": 58,
   "metadata": {
    "id": "PLp6NnYVVnyo"
   },
   "outputs": [],
   "source": [
    "import tensorflow as tf\n",
    "import matplotlib.pyplot as plt\n",
    "import numpy as np\n",
    "import pandas as pd\n",
    "%matplotlib inline"
   ]
  },
  {
   "cell_type": "code",
   "execution_count": null,
   "metadata": {
    "id": "5F66xKZRVpZc"
   },
   "outputs": [],
   "source": [
    "# Читаем таблицу\n",
    "path = 'full_data.csv'\n",
    "df = pd.read_csv(path)\n",
    "df.head()"
   ]
  },
  {
   "cell_type": "code",
   "execution_count": 60,
   "metadata": {
    "id": "8uQkeQnlVz8n"
   },
   "outputs": [],
   "source": [
    "df = df.replace(to_replace=['Male', 'Female'], value=[1, 0])\n",
    "df = df.replace(to_replace=['Yes', 'No'], value=[1, 0])"
   ]
  },
  {
   "cell_type": "code",
   "execution_count": 61,
   "metadata": {
    "id": "tFlQUGStZhnH"
   },
   "outputs": [],
   "source": [
    "def un(colum):\n",
    "  global df\n",
    "  un_item = []\n",
    "\n",
    "  for i in df[colum]:\n",
    "    if i not in un_item:\n",
    "      un_item.append(i)\n",
    "\n",
    "  un_index = len(un_item)\n",
    "  df = df.replace(to_replace=un_item, value=[i / un_index for i in range(un_index)])"
   ]
  },
  {
   "cell_type": "code",
   "execution_count": 62,
   "metadata": {
    "id": "5u9M_fRfcCag"
   },
   "outputs": [],
   "source": [
    "index = [\"smoking_status\", \"work_type\"]\n",
    "for ind in index:\n",
    "  un(ind)"
   ]
  },
  {
   "cell_type": "code",
   "execution_count": 63,
   "metadata": {
    "id": "McW9aePdZ9uA"
   },
   "outputs": [],
   "source": [
    "df = df.replace(to_replace=['Urban', 'Rural'], value=[1, 0])"
   ]
  },
  {
   "cell_type": "code",
   "execution_count": null,
   "metadata": {
    "id": "3iCCJBJEefuR"
   },
   "outputs": [],
   "source": [
    "df"
   ]
  },
  {
   "cell_type": "code",
   "execution_count": 65,
   "metadata": {
    "id": "lI8ihzuybsX_"
   },
   "outputs": [],
   "source": [
    "def getNormalNumbers(colum):\n",
    "  global df\n",
    "  df[colum] /= df[colum].max()"
   ]
  },
  {
   "cell_type": "code",
   "execution_count": 68,
   "metadata": {
    "id": "oDK6YruFcYew"
   },
   "outputs": [],
   "source": [
    "index_num = [\"age\", \"avg_glucose_level\", \"bmi\"]\n",
    "for ind_num in index_num:\n",
    "  getNormalNumbers(ind_num)"
   ]
  },
  {
   "cell_type": "code",
   "execution_count": 98,
   "metadata": {
    "id": "sRg5kYhcdri6"
   },
   "outputs": [],
   "source": [
    "procc = len(df) / 100\n",
    "\n",
    "Y = np.array(df[\"stroke\"])\n",
    "X = np.array(df.loc[:, 'gender':'smoking_status'])"
   ]
  },
  {
   "cell_type": "code",
   "execution_count": 94,
   "metadata": {
    "id": "-V_wyAsAe5R6"
   },
   "outputs": [],
   "source": [
    "model = tf.keras.Sequential([\n",
    "                          tf.keras.layers.Dense(10, activation=\"relu\"),\n",
    "                          tf.keras.layers.Dense(12, activation=\"relu\"),\n",
    "                          tf.keras.layers.Dense(1, activation=\"sigmoid\")\n",
    "])"
   ]
  },
  {
   "cell_type": "code",
   "execution_count": 95,
   "metadata": {
    "id": "odzjAve5ghmk"
   },
   "outputs": [],
   "source": [
    "model.compile(optimizer=tf.keras.optimizers.SGD(), loss='mse', metrics=['accuracy'])"
   ]
  },
  {
   "cell_type": "code",
   "execution_count": null,
   "metadata": {
    "id": "eMTjX6e6hU83"
   },
   "outputs": [],
   "source": [
    "history = model.fit(x_train, y_train, epochs=100, validation_split=0.2)"
   ]
  },
  {
   "cell_type": "code",
   "execution_count": null,
   "metadata": {
    "id": "grtSHIbQi1ZQ"
   },
   "outputs": [],
   "source": []
  }
 ],
 "metadata": {
  "colab": {
   "collapsed_sections": [],
   "name": "stroke.ipynb",
   "provenance": []
  },
  "kernelspec": {
   "display_name": "Python 3 (ipykernel)",
   "language": "python",
   "name": "python3"
  },
  "language_info": {
   "name": "python"
  }
 },
 "nbformat": 4,
 "nbformat_minor": 1
}
